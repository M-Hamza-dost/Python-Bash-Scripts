{
 "cells": [
  {
   "cell_type": "markdown",
   "metadata": {},
   "source": [
    "## Python Script to retrieve creation and modification time of file for Windows and Linux\n",
    "\n",
    "```\n",
    "import os\n",
    "import time\n",
    "import sys\n",
    "import platform\n",
    "#Check if the script has the required number of arguments\n",
    "if len(sys.argv) != 2: \n",
    "    print(f\"Script needs 1 argument\\nEx: python {sys.argv[0]} filename\")\n",
    "    sys.exit()\n",
    "else:\n",
    "    #Get the filename from the command line argument\n",
    "    file_name = sys.argv[1]\n",
    "    print(file_name)\n",
    "\n",
    "    from datetime import datetime as dt\n",
    "    found = False\n",
    "\n",
    "    # Set the directory path based on the operating system\n",
    "    if platform.system() == 'Windows':\n",
    "        dir_path = \"C:\\\\Users\\\\sc\\\\Desktop\\\\python\\\\day3\"\n",
    "    else:\n",
    "        dir_path = \"/home/hamza/bash\"\n",
    "\n",
    "    # Recursively search for the file in the directory\n",
    "    for root, directories, files in os.walk(dir_path):\n",
    "        for file in files:\n",
    "            if file == file_name:\n",
    "                # Get the creation and modification times of the file\n",
    "                creation_time = dt.fromtimestamp(os.path.getctime(os.path.join(root, file))).strftime('%I:%M %p  %d/%m/%Y')\n",
    "                modified_time = dt.fromtimestamp(os.path.getmtime(os.path.join(root, file))).strftime('%I:%M %p  %d/%m/%Y')\n",
    "\n",
    "                # Print the file path and its creation and modification times\n",
    "                print(f\"Here is your file with complete path: {os.path.join(root, file)}\")\n",
    "                print(f\"{file} was created at {creation_time} and last modified at {modified_time}\")   \n",
    "                found = True\n",
    "                break\n",
    "\n",
    "    # If the file is not found, print a message\n",
    "    if not found:\n",
    "        print('File not found')\n",
    "```"
   ]
  }
 ],
 "metadata": {
  "language_info": {
   "name": "python"
  }
 },
 "nbformat": 4,
 "nbformat_minor": 2
}
